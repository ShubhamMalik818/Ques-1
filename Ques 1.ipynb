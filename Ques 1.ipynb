{
 "cells": [
  {
   "cell_type": "code",
   "execution_count": null,
   "id": "3e1c899f-25a5-4cba-8fc9-359e7e53754a",
   "metadata": {},
   "outputs": [],
   "source": [
    "Ques 1. Move Zeroes\n",
    "Given an integer array nums, move all 0s to the end of it while maintaining the relative order of the non-zero elements.\n",
    "\n",
    "Note that you must do this in-place without making a copy of the array.\n",
    "\n",
    "Example 1:\n",
    "Input: nums = [0,1,0,3,12]\n",
    "Output: [1,3,12,0,0]\n",
    "\n",
    "Example 2:\n",
    "Input: nums = [0]\n",
    "Output: [0]\n",
    "\n",
    "Constraints:\n",
    "a. 1 <= nums.length <= 10^4\n",
    "b. -2^31 <= nums[i] <= 2^31 - 1"
   ]
  },
  {
   "cell_type": "code",
   "execution_count": 1,
   "id": "9df149d7-5004-4e4e-ae14-0827d6ff8f50",
   "metadata": {},
   "outputs": [],
   "source": [
    "def moveZeroes(nums):\n",
    "    # Initialize two pointers: one for the current element and another for the last non-zero element\n",
    "    current = 0\n",
    "    last_non_zero = 0\n",
    "\n",
    "    # Iterate through the array\n",
    "    while current < len(nums):\n",
    "        # If the current element is non-zero\n",
    "        if nums[current] != 0:\n",
    "            # Swap the current element with the last non-zero element\n",
    "            nums[current], nums[last_non_zero] = nums[last_non_zero], nums[current]\n",
    "            # Move the last non-zero pointer forward\n",
    "            last_non_zero += 1\n",
    "        \n",
    "        # Move the current pointer forward\n",
    "        current += 1"
   ]
  },
  {
   "cell_type": "code",
   "execution_count": null,
   "id": "2ce40ef2-325c-486f-bea3-dc0dc098409d",
   "metadata": {},
   "outputs": [],
   "source": []
  },
  {
   "cell_type": "code",
   "execution_count": null,
   "id": "dc4f70e0-6556-4221-973c-94bdf07ed713",
   "metadata": {},
   "outputs": [],
   "source": []
  }
 ],
 "metadata": {
  "kernelspec": {
   "display_name": "Python 3 (ipykernel)",
   "language": "python",
   "name": "python3"
  },
  "language_info": {
   "codemirror_mode": {
    "name": "ipython",
    "version": 3
   },
   "file_extension": ".py",
   "mimetype": "text/x-python",
   "name": "python",
   "nbconvert_exporter": "python",
   "pygments_lexer": "ipython3",
   "version": "3.10.8"
  }
 },
 "nbformat": 4,
 "nbformat_minor": 5
}
